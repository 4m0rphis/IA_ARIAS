{
 "cells": [
  {
   "cell_type": "markdown",
   "id": "7791f3d4-4cb5-4530-8e03-2fb4763d80b1",
   "metadata": {
    "id": "7791f3d4-4cb5-4530-8e03-2fb4763d80b1"
   },
   "source": [
    "# **Raisonnement en logique de proposition**\n",
    "\n",
    "La structure d'une base de connaissances est proposée ci-dessous.\n"
   ]
  },
  {
   "cell_type": "code",
   "execution_count": 1,
   "id": "2ea5d016-0a9c-464d-a38c-9a569e019684",
   "metadata": {
    "id": "2ea5d016-0a9c-464d-a38c-9a569e019684"
   },
   "outputs": [],
   "source": [
    "def initier_base_regles():\n",
    "    br={}\n",
    "    regles=[\n",
    "        (['P'], 'Q'),\n",
    "        (['L', 'M'], 'P'),\n",
    "        (['B', 'L'], 'M'),\n",
    "        (['A', 'P'], 'L'),\n",
    "        (['A', 'B'], 'L') ]\n",
    "    for regle in regles:\n",
    "        if regle[1] in br:\n",
    "            br[regle[1]].append(regle[0])\n",
    "        else:\n",
    "            br[regle[1]]=[regle[0]]\n",
    "    return br\n",
    "\n",
    "def initier_base_faits():\n",
    "    return ['A', 'B']\n",
    "\n",
    "def afficher(base_connaissances) :\n",
    "    base_regles, base_faits = base_connaissances\n",
    "    print(\"Les règles : \")\n",
    "    for conclusion in base_regles.keys():\n",
    "        for premisse in base_regles[conclusion]:\n",
    "            print(premisse,\" --> \", conclusion)\n",
    "    print(\"Les faits : \")\n",
    "    for fait in base_faits:\n",
    "        print(fait)\n"
   ]
  },
  {
   "cell_type": "code",
   "execution_count": 3,
   "id": "b5b1c2b7-dade-4ab9-b569-4c497a67d190",
   "metadata": {
    "colab": {
     "base_uri": "https://localhost:8080/"
    },
    "id": "b5b1c2b7-dade-4ab9-b569-4c497a67d190",
    "outputId": "415d1268-8da1-42bf-fb41-b8b61714dbca"
   },
   "outputs": [
    {
     "name": "stdout",
     "output_type": "stream",
     "text": [
      "Les règles : \n",
      "['P']  -->  Q\n",
      "['L', 'M']  -->  P\n",
      "['B', 'L']  -->  M\n",
      "['A', 'P']  -->  L\n",
      "['A', 'B']  -->  L\n",
      "Les faits : \n",
      "A\n",
      "B\n"
     ]
    }
   ],
   "source": [
    "KB = (initier_base_regles(), initier_base_faits())\n",
    "afficher(KB)"
   ]
  },
  {
   "cell_type": "markdown",
   "id": "b9da83c8-a9f3-460e-a39d-36e0ef83efd8",
   "metadata": {
    "id": "b9da83c8-a9f3-460e-a39d-36e0ef83efd8"
   },
   "source": [
    "## *Raisonnement par chaînage avant*\n"
   ]
  },
  {
   "cell_type": "code",
   "execution_count": 4,
   "id": "97a83874-349f-4c70-a982-63fa4b29e7ac",
   "metadata": {
    "id": "97a83874-349f-4c70-a982-63fa4b29e7ac"
   },
   "outputs": [],
   "source": [
    "## TO DO\n",
    "# la fonction suivante doit chercher si la conclusion C d'une règle P --> C est un nouveau fait dérivable\n",
    "# rappel : C est nouvellement dérivable si C n'est pas dans la base de faits et si tous les faits de P sont dans la base de faits\n",
    "# la fonction retourne le premier nouveau fait dérivable et None s'il n'en existe aucun\n",
    "\n",
    "def nouveau_fait_derivable(base_regles,base_faits): #modus ponens\n",
    "    for r in base_regles.keys():\n",
    "        if r not in base_faits:\n",
    "            for premisse in base_regles[r]:\n",
    "                ok = True\n",
    "                for p in premisse:\n",
    "                    if p not in base_faits:\n",
    "                        ok = False\n",
    "                        break\n",
    "                if ok:\n",
    "                    return r\n",
    "\n",
    "## TO DO\n",
    "# la fonction suivante réalisera le chaînage avant jusqu'à saturation\n",
    "def chainage_avant_sat(base_regles,base_faits):\n",
    "    while True:\n",
    "        nf = nouveau_fait_derivable(base_regles,base_faits)\n",
    "        if nf == None:\n",
    "            break\n",
    "        base_faits.append(nf)\n",
    "\n",
    "# la fonction suivante interroge la base KB si un but alpha est prouvable, en utilisant le chaînage avant jusqu'à saturation\n",
    "def ask_chainage_avant(KB,alpha):\n",
    "    base_regles, base_faits = KB\n",
    "    chainage_avant_sat(base_regles, base_faits)\n",
    "    if alpha in base_faits:\n",
    "        print(alpha, \" est prouvable\")\n",
    "    else :\n",
    "        print(alpha, \" n'est pas prouvable\")\n"
   ]
  },
  {
   "cell_type": "code",
   "execution_count": 5,
   "id": "45a14e8f-622b-4f94-901e-3cd1ef94c6c6",
   "metadata": {
    "colab": {
     "base_uri": "https://localhost:8080/"
    },
    "id": "45a14e8f-622b-4f94-901e-3cd1ef94c6c6",
    "outputId": "18da9912-f835-46f4-a69c-fb48f68bf261"
   },
   "outputs": [
    {
     "name": "stdout",
     "output_type": "stream",
     "text": [
      "P  est prouvable\n",
      "Les règles : \n",
      "['P']  -->  Q\n",
      "['L', 'M']  -->  P\n",
      "['B', 'L']  -->  M\n",
      "['A', 'P']  -->  L\n",
      "['A', 'B']  -->  L\n",
      "Les faits : \n",
      "A\n",
      "B\n",
      "L\n",
      "M\n",
      "P\n",
      "Q\n"
     ]
    }
   ],
   "source": [
    "KB = (initier_base_regles(), initier_base_faits())\n",
    "ask_chainage_avant(KB, 'P')\n",
    "afficher(KB)"
   ]
  },
  {
   "cell_type": "code",
   "execution_count": 6,
   "id": "66539c37-7e7b-4ebd-841f-8c28db8dc080",
   "metadata": {
    "id": "66539c37-7e7b-4ebd-841f-8c28db8dc080"
   },
   "outputs": [],
   "source": [
    "## TO DO\n",
    "# la fonction suivante réalisera le chaînage avant jusqu'à ce que le but soit atteint\n",
    "def chainage_avant_but(base_regles,base_faits,but):\n",
    "    while but not in base_faits:\n",
    "        nf = nouveau_fait_derivable(base_regles,base_faits)\n",
    "        if nf == None:\n",
    "            break\n",
    "        base_faits.append(nf)\n",
    "\n",
    "\n",
    "## TO DO\n",
    "# la fonction suivante utilise le chaînage avant et s'arrête si le but est atteint\n",
    "# elle affiche si le but est prouvable ou non par ce chainage\n",
    "def ask_chainage_avant_but(KB,alpha):\n",
    "    base_regles, base_faits = KB\n",
    "    chainage_avant_but(base_regles, base_faits, alpha)\n",
    "    if alpha in base_faits:\n",
    "        print(alpha, \" est prouvable\")\n",
    "    else :\n",
    "        print(alpha, \" n'est pas prouvable\")\n"
   ]
  },
  {
   "cell_type": "code",
   "execution_count": 7,
   "id": "1d0e7434-803c-4011-8113-dd97cef745f6",
   "metadata": {
    "colab": {
     "base_uri": "https://localhost:8080/"
    },
    "id": "1d0e7434-803c-4011-8113-dd97cef745f6",
    "outputId": "41cd439c-cb4e-448a-c8a2-4a5fa1862105"
   },
   "outputs": [
    {
     "name": "stdout",
     "output_type": "stream",
     "text": [
      "P  est prouvable\n",
      "Les règles : \n",
      "['P']  -->  Q\n",
      "['L', 'M']  -->  P\n",
      "['B', 'L']  -->  M\n",
      "['A', 'P']  -->  L\n",
      "['A', 'B']  -->  L\n",
      "Les faits : \n",
      "A\n",
      "B\n",
      "L\n",
      "M\n",
      "P\n"
     ]
    }
   ],
   "source": [
    "KB = (initier_base_regles(), initier_base_faits())\n",
    "ask_chainage_avant_but(KB, 'P')\n",
    "afficher(KB)"
   ]
  },
  {
   "cell_type": "markdown",
   "id": "ecc0c595-1df0-42f1-86e2-6d0c3f8192da",
   "metadata": {
    "id": "ecc0c595-1df0-42f1-86e2-6d0c3f8192da"
   },
   "source": [
    "## *Raisonnement par chaînage arrière*"
   ]
  },
  {
   "cell_type": "code",
   "execution_count": 8,
   "id": "8cef8490-c897-45bf-9328-e3097990555a",
   "metadata": {
    "id": "8cef8490-c897-45bf-9328-e3097990555a"
   },
   "outputs": [],
   "source": [
    "## TO DO\n",
    "# la fonction suivante réalisera le chaînage arrière pour prouver le but\n",
    "# elle retourne True si le but peut être prouvé et False sinon\n",
    "''' buts_a_prouver: contient les buts qui sont en train d'être prouvés :\n",
    "buts rencontrés sur le chemin de preuve à partir du but initial\n",
    "'''\n",
    "def chainage_arriere(base_regles,base_faits, buts_a_prouver, but):\n",
    "    if but in base_faits:\n",
    "        return True\n",
    "    if but in buts_a_prouver:\n",
    "        return False\n",
    "    for r in base_regles.keys():\n",
    "        if but in r:\n",
    "            print(\"regle \", base_regles[r])\n",
    "            ok = True\n",
    "            for premisse in base_regles[r]:\n",
    "                ok = False\n",
    "\n",
    "                for p in premisse:\n",
    "                    print(\"prouver \", p)\n",
    "                    if not chainage_arriere(base_regles, base_faits, buts_a_prouver + [but], p):\n",
    "                        ok = True\n",
    "                        break\n",
    "                if not ok:\n",
    "                    break\n",
    "            if ok:\n",
    "                return True\n",
    "    return False\n",
    "\n",
    "# la fonction suivante utilise le chaînage arrière pour prouver alpha avec la base KB\n",
    "def ask_chainage_arriere(KB,alpha):\n",
    "    base_regles, base_faits = KB\n",
    "    if chainage_arriere(base_regles, base_faits, [], alpha):\n",
    "        print(alpha, \" est prouvable\")\n",
    "    else :\n",
    "        print(alpha, \" n'est pas prouvable\")\n"
   ]
  },
  {
   "cell_type": "code",
   "execution_count": 9,
   "id": "02f9ca3c-7f2e-492b-88ca-c38eb0cf0718",
   "metadata": {
    "colab": {
     "base_uri": "https://localhost:8080/"
    },
    "id": "02f9ca3c-7f2e-492b-88ca-c38eb0cf0718",
    "outputId": "60c177df-e610-4cf3-8527-b2a8b171adf7"
   },
   "outputs": [
    {
     "name": "stdout",
     "output_type": "stream",
     "text": [
      "regle  [['L', 'M']]\n",
      "prouver  L\n",
      "regle  [['A', 'P'], ['A', 'B']]\n",
      "prouver  A\n",
      "prouver  P\n",
      "prouver  A\n",
      "prouver  B\n",
      "P  est prouvable\n",
      "Les règles : \n",
      "['P']  -->  Q\n",
      "['L', 'M']  -->  P\n",
      "['B', 'L']  -->  M\n",
      "['A', 'P']  -->  L\n",
      "['A', 'B']  -->  L\n",
      "Les faits : \n",
      "A\n",
      "B\n"
     ]
    }
   ],
   "source": [
    "KB = (initier_base_regles(), initier_base_faits())\n",
    "ask_chainage_arriere(KB, 'P')\n",
    "afficher(KB)"
   ]
  },
  {
   "cell_type": "markdown",
   "id": "e895407d-a642-486e-95c9-d98a520e096b",
   "metadata": {
    "id": "e895407d-a642-486e-95c9-d98a520e096b"
   },
   "source": [
    "## *Chaînage avant avec la négation*\n",
    "\n",
    "La présentation de règle doit être modifiée pour prendre en compte des règles avec négation dans la prémisse, par exemple la règle suivante\n",
    "$$P\\wedge \\neg R \\rightarrow S\n",
    "$$\n",
    "On choisit par exemple de présenter chaque élément de la prémisse par un couple $(s,e)$ où $s=1$ si $e$ a une apparence positive et $s=0$ sinon. Par exemple la règle précédente sera présentée par le couple ([(1,P), (0,R)], S)."
   ]
  },
  {
   "cell_type": "markdown",
   "id": "c2984864-97e1-452b-bf2b-53843ddbfc18",
   "metadata": {
    "id": "c2984864-97e1-452b-bf2b-53843ddbfc18"
   },
   "source": [
    "On suppose que la négation d'un fait est validée par questionnement, c'est-à-dire que pour une règle avec une négation $\\neg f$, si le fait $f$ n'est pas dans la base de faits *lors de saturation*, on pose une question sur la vérité de $f$.\n",
    "\n",
    "<font color='red'> **TO DO**</font>\n",
    "Écrire les fonctions nécessaires pour réaliser ce type de chaînage avec négation."
   ]
  },
  {
   "cell_type": "code",
   "execution_count": 25,
   "id": "45420a9c-f788-48af-9060-134acef94806",
   "metadata": {
    "id": "45420a9c-f788-48af-9060-134acef94806"
   },
   "outputs": [],
   "source": [
    "# Initialisation de la base de règles avec négation\n",
    "def initier_base_regles_bis():\n",
    "    br={}\n",
    "    regles=[\n",
    "        ([(1,'P')], 'Q'),\n",
    "        ([(1,'L'), (1,'M')], 'P'),\n",
    "        ([(1,'B'), (1,'L')], 'M'),\n",
    "        ([(1,'A'), (1,'P')], 'L'),\n",
    "        ([(1,'A'), (1,'B')], 'L'),\n",
    "        ([(1,'P'), (0,'R')], 'S')]\n",
    "    for regle in regles:\n",
    "        if regle[1] in br:\n",
    "            br[regle[1]].append(regle[0])\n",
    "        else:\n",
    "            br[regle[1]]=[regle[0]]\n",
    "    return br\n",
    "\n",
    "\n",
    "\n",
    "#Chaînage avant avec la négation\n",
    "def nouveau_fait_derivable_neg(base_regles,base_faits): #modus ponens\n",
    "    for r in base_regles.keys():\n",
    "        if r not in base_faits:\n",
    "            for premisse in base_regles[r]:\n",
    "                ok = True\n",
    "                for p in premisse:\n",
    "                    if p[0] == 0 and p[1] not in base_faits:\n",
    "                        ok = False\n",
    "                        break\n",
    "                if ok:\n",
    "                    return r\n",
    "\n",
    "# la fonction suivante réalisera le chaînage avant jusqu'à saturation\n",
    "def chainage_avant_sat_neg(base_regles,base_faits):\n",
    "    while True:\n",
    "        nf = nouveau_fait_derivable_neg(base_regles,base_faits)\n",
    "        if nf == None:\n",
    "            break\n",
    "        base_faits.append(nf)\n",
    "\n",
    "# la fonction suivante interroge la base KB si un but alpha est prouvable, en utilisant le chaînage avant\n",
    "def ask_chainage_avant_neg(KB,alpha):\n",
    "    base_regles, base_faits = KB\n",
    "    chainage_avant_sat_neg(base_regles, base_faits)\n",
    "    if alpha in base_faits:\n",
    "        print(alpha, \" est prouvable\")\n",
    "    else :\n",
    "        print(alpha, \" n'est pas prouvable\")\n",
    "\n",
    "def chainage_avant_but_neg(base_regles,base_faits,but):\n",
    "    while but not in base_faits:\n",
    "        nf = nouveau_fait_derivable_neg(base_regles,base_faits)\n",
    "        if nf == None:\n",
    "            break\n",
    "        base_faits.append(nf)\n",
    "\n",
    "def ask_chainage_avant_but_neg(KB,alpha):\n",
    "    base_regles, base_faits = KB\n",
    "    chainage_avant_but_neg(base_regles, base_faits, alpha)\n",
    "    if alpha in base_faits:\n",
    "        print(alpha, \" est prouvable\")\n",
    "    else :\n",
    "        print(alpha, \" n'est pas prouvable\")\n",
    "\n",
    "# Fonction pour poser une question à l'utilisateur\n",
    "def poser_question(fait):\n",
    "    reponse = input(f\"Le fait {fait} est-il vrai ? (oui/non) : \")\n",
    "    return reponse.lower() == 'oui'\n",
    "\n",
    "# Chaînage avant avec la négation et interaction utilisateur\n",
    "def nouveau_fait_derivable_neg_interactif(base_regles, base_faits):\n",
    "    for r in base_regles.keys():\n",
    "        if r not in base_faits:\n",
    "            for premisse in base_regles[r]:\n",
    "                ok = True\n",
    "                for p in premisse:\n",
    "                    if p[0] == 1 and p[1] not in base_faits:\n",
    "                        ok = False\n",
    "                        break\n",
    "                    if p[0] == 0 and p[1] not in base_faits:\n",
    "                        if poser_question(p[1]):\n",
    "                            base_faits.append(\"¬\" + p[1])\n",
    "                        else:\n",
    "                            ok = False\n",
    "                            break\n",
    "                if ok:\n",
    "                    return r\n",
    "    return None\n",
    "\n",
    "def chainage_avant_sat_neg_interactif(base_regles, base_faits):\n",
    "    while True:\n",
    "        nf = nouveau_fait_derivable_neg_interactif(base_regles, base_faits)\n",
    "        if nf is None:\n",
    "            break\n",
    "        base_faits.append(nf)\n",
    "\n",
    "def ask_chainage_avant_neg_interactif(KB, alpha):\n",
    "    base_regles, base_faits = KB\n",
    "    chainage_avant_sat_neg_interactif(base_regles, base_faits)\n",
    "    if alpha in base_faits:\n",
    "        print(alpha, \" est prouvable\")\n",
    "    else:\n",
    "        print(alpha, \" n'est pas prouvable\")\n"
   ]
  },
  {
   "cell_type": "code",
   "execution_count": 15,
   "id": "ONWerRUgXUo5",
   "metadata": {
    "colab": {
     "base_uri": "https://localhost:8080/"
    },
    "id": "ONWerRUgXUo5",
    "outputId": "b49a8555-a3dc-4610-f3ca-e6aac520ed63"
   },
   "outputs": [
    {
     "name": "stdout",
     "output_type": "stream",
     "text": [
      "S  n'est pas prouvable\n",
      "Les règles : \n",
      "[(1, 'P')]  -->  Q\n",
      "[(1, 'L'), (1, 'M')]  -->  P\n",
      "[(1, 'B'), (1, 'L')]  -->  M\n",
      "[(1, 'A'), (1, 'P')]  -->  L\n",
      "[(1, 'A'), (1, 'B')]  -->  L\n",
      "[(1, 'P'), (0, 'R')]  -->  S\n",
      "Les faits : \n",
      "A\n",
      "B\n",
      "Q\n",
      "P\n",
      "M\n",
      "L\n"
     ]
    }
   ],
   "source": [
    "KB = (initier_base_regles_bis(), initier_base_faits())\n",
    "ask_chainage_avant_but_neg(KB, 'S')\n",
    "afficher(KB)"
   ]
  },
  {
   "cell_type": "code",
   "execution_count": 12,
   "id": "wwMafKGxXcLq",
   "metadata": {
    "colab": {
     "base_uri": "https://localhost:8080/"
    },
    "id": "wwMafKGxXcLq",
    "outputId": "38b03bc0-6dc4-4b59-bc6e-49f78a9a2d68"
   },
   "outputs": [
    {
     "name": "stdout",
     "output_type": "stream",
     "text": [
      "S  n'est pas prouvable\n",
      "Les règles : \n",
      "[(1, 'P')]  -->  Q\n",
      "[(1, 'L'), (1, 'M')]  -->  P\n",
      "[(1, 'B'), (1, 'L')]  -->  M\n",
      "[(1, 'A'), (1, 'P')]  -->  L\n",
      "[(1, 'A'), (1, 'B')]  -->  L\n",
      "[(1, 'P'), (0, 'R')]  -->  S\n",
      "Les faits : \n",
      "A\n",
      "B\n",
      "Q\n",
      "P\n",
      "M\n",
      "L\n"
     ]
    }
   ],
   "source": [
    "KB = (initier_base_regles_bis(), initier_base_faits()) #ne prends pas en compte l'input de l'utilisateur\n",
    "ask_chainage_avant_neg(KB, 'S')\n",
    "afficher(KB)"
   ]
  },
  {
   "cell_type": "code",
   "execution_count": 26,
   "id": "fhOw1r3WZ2gJ",
   "metadata": {
    "colab": {
     "base_uri": "https://localhost:8080/"
    },
    "id": "fhOw1r3WZ2gJ",
    "outputId": "f995dedb-01c2-4258-d99c-d9cdf8645a24"
   },
   "outputs": [
    {
     "name": "stdout",
     "output_type": "stream",
     "text": [
      "S  est prouvable\n",
      "Les règles : \n",
      "[(1, 'P')]  -->  Q\n",
      "[(1, 'L'), (1, 'M')]  -->  P\n",
      "[(1, 'B'), (1, 'L')]  -->  M\n",
      "[(1, 'A'), (1, 'P')]  -->  L\n",
      "[(1, 'A'), (1, 'B')]  -->  L\n",
      "[(1, 'P'), (0, 'R')]  -->  S\n",
      "Les faits : \n",
      "A\n",
      "B\n",
      "L\n",
      "M\n",
      "P\n",
      "Q\n",
      "¬R\n",
      "S\n"
     ]
    }
   ],
   "source": [
    "# Exemple d'utilisation\n",
    "KB = (initier_base_regles_bis(), initier_base_faits()) #prends on compte l'input de l'utilisateur\n",
    "ask_chainage_avant_neg_interactif(KB, 'S')\n",
    "afficher(KB)"
   ]
  },
  {
   "cell_type": "code",
   "execution_count": null,
   "id": "598f65ad-0325-4b2e-8644-a971652fd24d",
   "metadata": {
    "id": "598f65ad-0325-4b2e-8644-a971652fd24d"
   },
   "outputs": [],
   "source": []
  }
 ],
 "metadata": {
  "colab": {
   "provenance": []
  },
  "kernelspec": {
   "display_name": "Python 3",
   "language": "python",
   "name": "python3"
  },
  "language_info": {
   "codemirror_mode": {
    "name": "ipython",
    "version": 3
   },
   "file_extension": ".py",
   "mimetype": "text/x-python",
   "name": "python",
   "nbconvert_exporter": "python",
   "pygments_lexer": "ipython3",
   "version": "3.11.9"
  }
 },
 "nbformat": 4,
 "nbformat_minor": 5
}
